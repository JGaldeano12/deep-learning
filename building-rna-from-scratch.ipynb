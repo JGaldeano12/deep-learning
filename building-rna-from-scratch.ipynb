{
 "cells": [
  {
   "cell_type": "markdown",
   "metadata": {},
   "source": [
    "# Construcción de una Red Neuronal desde cero\n",
    "A través de este tutorial, se va a construir una Red Neuronal Artificial (RNA) explicando de forma teórica los diferentes elementos necesarios para la construcción y entrenamiento del modelo. Además, se pondrá en práctica la red para evaluar su correcto funcionamiento."
   ]
  },
  {
   "cell_type": "markdown",
   "metadata": {},
   "source": [
    "# Índice de contenidos\n",
    "- [1 - Inicialización de capas](#1)\n",
    "- [2 - Inicialización de parámetros](#2)\n",
    "- [3 - Implementar \"forward propagation\"](#3)\n",
    "- [4 - Computación del coste](#4)\n",
    "- [5 - Implementación del \"backward propagation\"](#5)\n",
    "- [6 - Actualización de parámetros (gradient descent)](#6)\n",
    "- [7 - Entrenamiento del modelo](#7)\n",
    "- [8 - Predicción](#8)"
   ]
  },
  {
   "cell_type": "markdown",
   "metadata": {},
   "source": [
    "# 1.- Instalación de librerías\n",
    "En primer lugar, se instalan e importan todas las librerías necesarias para la realización de la implementación.\n",
    "\n",
    "## 1.1.- Instalación de las librerías\n",
    "Se va a emplear 'numpy' y 'matplotlib':"
   ]
  },
  {
   "cell_type": "code",
   "execution_count": 3,
   "metadata": {},
   "outputs": [
    {
     "name": "stdout",
     "output_type": "stream",
     "text": [
      "Requirement already satisfied: numpy in /usr/local/lib/python3.11/dist-packages (1.26.4)\n",
      "\u001b[33mWARNING: Running pip as the 'root' user can result in broken permissions and conflicting behaviour with the system package manager, possibly rendering your system unusable.It is recommended to use a virtual environment instead: https://pip.pypa.io/warnings/venv. Use the --root-user-action option if you know what you are doing and want to suppress this warning.\u001b[0m\u001b[33m\n",
      "\u001b[0m\n",
      "\u001b[1m[\u001b[0m\u001b[34;49mnotice\u001b[0m\u001b[1;39;49m]\u001b[0m\u001b[39;49m A new release of pip is available: \u001b[0m\u001b[31;49m24.1.2\u001b[0m\u001b[39;49m -> \u001b[0m\u001b[32;49m24.2\u001b[0m\n",
      "\u001b[1m[\u001b[0m\u001b[34;49mnotice\u001b[0m\u001b[1;39;49m]\u001b[0m\u001b[39;49m To update, run: \u001b[0m\u001b[32;49mpython -m pip install --upgrade pip\u001b[0m\n",
      "Note: you may need to restart the kernel to use updated packages.\n",
      "Requirement already satisfied: matplotlib in /usr/local/lib/python3.11/dist-packages (3.9.1)\n",
      "Requirement already satisfied: contourpy>=1.0.1 in /usr/local/lib/python3.11/dist-packages (from matplotlib) (1.2.1)\n",
      "Requirement already satisfied: cycler>=0.10 in /usr/local/lib/python3.11/dist-packages (from matplotlib) (0.12.1)\n",
      "Requirement already satisfied: fonttools>=4.22.0 in /usr/local/lib/python3.11/dist-packages (from matplotlib) (4.53.1)\n",
      "Requirement already satisfied: kiwisolver>=1.3.1 in /usr/local/lib/python3.11/dist-packages (from matplotlib) (1.4.5)\n",
      "Requirement already satisfied: numpy>=1.23 in /usr/local/lib/python3.11/dist-packages (from matplotlib) (1.26.4)\n",
      "Requirement already satisfied: packaging>=20.0 in /usr/local/lib/python3.11/dist-packages (from matplotlib) (24.1)\n",
      "Requirement already satisfied: pillow>=8 in /usr/local/lib/python3.11/dist-packages (from matplotlib) (10.4.0)\n",
      "Requirement already satisfied: pyparsing>=2.3.1 in /usr/lib/python3/dist-packages (from matplotlib) (2.4.7)\n",
      "Requirement already satisfied: python-dateutil>=2.7 in /root/.local/lib/python3.11/site-packages (from matplotlib) (2.9.0.post0)\n",
      "Requirement already satisfied: six>=1.5 in /usr/lib/python3/dist-packages (from python-dateutil>=2.7->matplotlib) (1.16.0)\n",
      "\u001b[33mWARNING: Running pip as the 'root' user can result in broken permissions and conflicting behaviour with the system package manager, possibly rendering your system unusable.It is recommended to use a virtual environment instead: https://pip.pypa.io/warnings/venv. Use the --root-user-action option if you know what you are doing and want to suppress this warning.\u001b[0m\u001b[33m\n",
      "\u001b[0m\n",
      "\u001b[1m[\u001b[0m\u001b[34;49mnotice\u001b[0m\u001b[1;39;49m]\u001b[0m\u001b[39;49m A new release of pip is available: \u001b[0m\u001b[31;49m24.1.2\u001b[0m\u001b[39;49m -> \u001b[0m\u001b[32;49m24.2\u001b[0m\n",
      "\u001b[1m[\u001b[0m\u001b[34;49mnotice\u001b[0m\u001b[1;39;49m]\u001b[0m\u001b[39;49m To update, run: \u001b[0m\u001b[32;49mpython -m pip install --upgrade pip\u001b[0m\n",
      "Note: you may need to restart the kernel to use updated packages.\n"
     ]
    }
   ],
   "source": [
    "%pip install numpy\n",
    "%pip install matplotlib"
   ]
  },
  {
   "cell_type": "code",
   "execution_count": 4,
   "metadata": {},
   "outputs": [
    {
     "name": "stderr",
     "output_type": "stream",
     "text": [
      "2024-08-04 13:37:47.551609: E external/local_xla/xla/stream_executor/cuda/cuda_fft.cc:485] Unable to register cuFFT factory: Attempting to register factory for plugin cuFFT when one has already been registered\n",
      "2024-08-04 13:37:47.568898: E external/local_xla/xla/stream_executor/cuda/cuda_dnn.cc:8454] Unable to register cuDNN factory: Attempting to register factory for plugin cuDNN when one has already been registered\n",
      "2024-08-04 13:37:47.573822: E external/local_xla/xla/stream_executor/cuda/cuda_blas.cc:1452] Unable to register cuBLAS factory: Attempting to register factory for plugin cuBLAS when one has already been registered\n",
      "2024-08-04 13:37:47.586957: I tensorflow/core/platform/cpu_feature_guard.cc:210] This TensorFlow binary is optimized to use available CPU instructions in performance-critical operations.\n",
      "To enable the following instructions: AVX2 FMA, in other operations, rebuild TensorFlow with the appropriate compiler flags.\n"
     ]
    },
    {
     "name": "stdout",
     "output_type": "stream",
     "text": [
      "Num GPUs Available:  1\n"
     ]
    },
    {
     "name": "stderr",
     "output_type": "stream",
     "text": [
      "WARNING: All log messages before absl::InitializeLog() is called are written to STDERR\n",
      "I0000 00:00:1722778669.990311     560 cuda_executor.cc:1001] could not open file to read NUMA node: /sys/bus/pci/devices/0000:07:00.0/numa_node\n",
      "Your kernel may have been built without NUMA support.\n",
      "I0000 00:00:1722778670.000742     560 cuda_executor.cc:1001] could not open file to read NUMA node: /sys/bus/pci/devices/0000:07:00.0/numa_node\n",
      "Your kernel may have been built without NUMA support.\n",
      "I0000 00:00:1722778670.000799     560 cuda_executor.cc:1001] could not open file to read NUMA node: /sys/bus/pci/devices/0000:07:00.0/numa_node\n",
      "Your kernel may have been built without NUMA support.\n"
     ]
    }
   ],
   "source": [
    "import tensorflow as tf\n",
    "print(\"Num GPUs Available: \", len(tf.config.list_physical_devices('GPU')))"
   ]
  },
  {
   "cell_type": "markdown",
   "metadata": {},
   "source": [
    "## 1.2.- Inicialización de librerías\n",
    "Una vez instaladas, se inicializan las librerías:"
   ]
  },
  {
   "cell_type": "code",
   "execution_count": 5,
   "metadata": {},
   "outputs": [],
   "source": [
    "import numpy as np\n",
    "import matplotlib.pyplot as plt\n",
    "import tensorflow as tf"
   ]
  },
  {
   "cell_type": "markdown",
   "metadata": {},
   "source": [
    "## 1.3.- Carga del conjunto de datos\n",
    "Se procede a cargar el conjunto de datos CIFAR-10:"
   ]
  },
  {
   "cell_type": "code",
   "execution_count": 6,
   "metadata": {},
   "outputs": [],
   "source": [
    "(x_train, y_train), (x_test, y_test) = tf.keras.datasets.cifar10.load_data()"
   ]
  },
  {
   "cell_type": "markdown",
   "metadata": {},
   "source": [
    "A través de la extracción de las imágenes de la librería de Tensorflow, se distinguirá entre conjunto de datos de entrenamiento (x_train) y sus respectivas etiquetas (y_train), y datos de test."
   ]
  },
  {
   "cell_type": "code",
   "execution_count": 7,
   "metadata": {},
   "outputs": [
    {
     "name": "stdout",
     "output_type": "stream",
     "text": [
      "El tamaño del conjunto de datos de entrenamiento es  (50000, 32, 32, 3)\n",
      "El tamaño del las etiquetas del conjunto de entrenamiento es  (50000, 1) \n",
      "\n",
      "El tamaño del conjunto de datos de entrenamiento es  (10000, 32, 32, 3)\n",
      "El tamaño del las etiquetas del conjunto de entrenamiento es  (10000, 1)\n"
     ]
    }
   ],
   "source": [
    "print(\"El tamaño del conjunto de datos de entrenamiento es \", x_train.shape)\n",
    "print(\"El tamaño del las etiquetas del conjunto de entrenamiento es \", y_train.shape, \"\\n\")\n",
    "print(\"El tamaño del conjunto de datos de entrenamiento es \", x_test.shape)\n",
    "print(\"El tamaño del las etiquetas del conjunto de entrenamiento es \", y_test.shape)"
   ]
  },
  {
   "cell_type": "markdown",
   "metadata": {},
   "source": [
    "A través de la documentación, se identifican las diferentes etiquetas existentes en el conjunto de datos. Estas etiquetas equivalen a:\n",
    "* 0: avión.\n",
    "* 1: coches.\n",
    "* 2: pájaro.\n",
    "* 3: gato.\n",
    "* 4: ciervo.\n",
    "* 5: perro.\n",
    "* 6: rana.\n",
    "* 7: caballo.\n",
    "* 8: barco.\n",
    "* 9: camión."
   ]
  },
  {
   "cell_type": "code",
   "execution_count": 8,
   "metadata": {},
   "outputs": [],
   "source": [
    "etiquetas = ['Avión', 'Coche','Pajaro', 'Gato', 'Ciervo', 'Perro', 'Rana', 'Caballo', 'Barco', 'Camion']"
   ]
  },
  {
   "cell_type": "markdown",
   "metadata": {},
   "source": [
    "Conociendo el tamaño del dataset, visualizo un primer ejemplo de datos:"
   ]
  },
  {
   "cell_type": "code",
   "execution_count": 9,
   "metadata": {},
   "outputs": [],
   "source": [
    "def visualizar_imagen(conjunto, etiqueta, index_image):\n",
    "    plt.figure(figsize=(5,5))\n",
    "    \n",
    "    # Eliminar las etiquetas de los ejes\n",
    "    plt.xticks([])\n",
    "    plt.yticks([])\n",
    "    plt.grid(False)\n",
    "    plt.xlabel(etiquetas[etiqueta[index_image][0]])\n",
    "    plt.imshow(conjunto[index_image])\n",
    "    plt.show()"
   ]
  },
  {
   "cell_type": "markdown",
   "metadata": {},
   "source": [
    "Se usa el método:"
   ]
  },
  {
   "cell_type": "code",
   "execution_count": 10,
   "metadata": {},
   "outputs": [
    {
     "data": {
      "image/png": "[encoded data removed]",
      "text/plain": [
       "<Figure size 500x500 with 1 Axes>"
      ]
     },
     "metadata": {},
     "output_type": "display_data"
    }
   ],
   "source": [
    "visualizar_imagen(x_train, y_train, 1)"
   ]
  },
  {
   "cell_type": "markdown",
   "metadata": {},
   "source": [
    "# 2.- Inicialización de capas\n",
    "Este método nos permite definir la estructura de la red neuronal que vamos a construir. "
   ]
  },
  {
   "cell_type": "code",
   "execution_count": 14,
   "metadata": {},
   "outputs": [],
   "source": [
    "def init_layers(X, Y, num_hidden_layers, num_hidden_units):\n",
    "    \"\"\"\n",
    "    Este método permite definir la estructura de la red neuronal, especificando el número de neuronas en la capa de entrada (que viene dada por el tamaño del dataset utilizado),\n",
    "    el número de capas ocultas especificado por parámetro de entrada, el número de neuronas en cada una de estas capas ocultas y finalmente, el número de neuronas en la capa de\n",
    "    salida (especificado como el tamaño de la variable objetivo).\n",
    "\n",
    "    Se entiende por tanto que se está construyendo una Red Neuronal Profunda donde tocas las capas ocultas tienen el mismo número de neuronas.\n",
    "\n",
    "    Variables de entrada:\n",
    "    X -- conjunto de datos de entrada (tamaño de entrada, número de ejemplos)\n",
    "    Y -- etiquetas (tamaño de salida, número de ejemplos)\n",
    "    \n",
    "    Variables de salida:\n",
    "    input_units -- número de neuronas en la capa de entrada (equivalente al número de variables de entrada)\n",
    "    hidden_units -- número de neuronas en las capas ocultas\n",
    "    output_units -- número de neuronas en la capa de salida\n",
    "    \"\"\"\n",
    "    # Defino un array que almacene la estructura de capas de la red\n",
    "    dim_layers = []\n",
    "\n",
    "    # Defino el número de neuronas en la capa de entrada\n",
    "    input_units = X.shape[1]*X.shape[2]\n",
    "\n",
    "    # Añado la primera capa, en este caso, la capa de entrada\n",
    "    dim_layers.append(input_units)\n",
    "\n",
    "    hidden_layers = num_hidden_layers\n",
    "    hidden_units = num_hidden_units\n",
    "\n",
    "    # Itero sobre el número de capas ocultas\n",
    "    for i in range(0,hidden_layers):\n",
    "        dim_layers.append(hidden_units[i])\n",
    "\n",
    "    # Finalmente, se añade la capa de salida\n",
    "    output_units = Y.shape[1]\n",
    "    dim_layers.append(output_units)\n",
    "\n",
    "    return dim_layers"
   ]
  },
  {
   "cell_type": "markdown",
   "metadata": {},
   "source": [
    "Utilizamos el método para inicializar la estructura de la red:"
   ]
  },
  {
   "cell_type": "code",
   "execution_count": 15,
   "metadata": {},
   "outputs": [],
   "source": [
    "rna = init_layers(X = x_train, Y = y_train, num_hidden_layers = 4, num_hidden_units = [200, 300, 300, 200])"
   ]
  },
  {
   "cell_type": "markdown",
   "metadata": {},
   "source": [
    "Visualizo la estructura definida:"
   ]
  },
  {
   "cell_type": "code",
   "execution_count": 16,
   "metadata": {},
   "outputs": [
    {
     "data": {
      "text/plain": [
       "[1024, 200, 300, 300, 200, 1]"
      ]
     },
     "execution_count": 16,
     "metadata": {},
     "output_type": "execute_result"
    }
   ],
   "source": [
    "rna"
   ]
  },
  {
   "cell_type": "markdown",
   "metadata": {},
   "source": [
    "# 3.- Inicialización de parámetros\n",
    "Este método nos permite inicializar los parámetros para una red neuronal de `l` capas."
   ]
  },
  {
   "cell_type": "code",
   "execution_count": 17,
   "metadata": {},
   "outputs": [],
   "source": [
    "def init_parameters(dims_layers):\n",
    "    \"\"\"\n",
    "    Esta función nos permitirá inicializar los parámetros de la Red Neuronal con la estructura definida en la función anterior.\n",
    "\n",
    "    Variables de entrada:\n",
    "    dims_layers -- consiste en las dimensiones de la red.\n",
    "\n",
    "    Variables de salida\n",
    "    parameters -- consiste en el conjunto de parámetros inicializados en la red\n",
    "    \"\"\"\n",
    "\n",
    "    # Se crea el diccionario para almacenar los parámetros\n",
    "    parameters = {}\n",
    "\n",
    "    for num_capa in range(1, len(dims_layers)):\n",
    "        # Para cada capa se debe de crear la matriz de pesos y el sesgo correspondiente.\n",
    "        parameters['W' + str(num_capa)] = np.random.rand(dims_layers[num_capa], dims_layers[num_capa-1])\n",
    "        parameters['b' + str(num_capa)] = np.random.rand(dims_layers[num_capa], 1)\n",
    "\n",
    "    # Devuelvo los parámetros inicializados\n",
    "    return parameters"
   ]
  },
  {
   "cell_type": "markdown",
   "metadata": {},
   "source": [
    "Probamos el método:"
   ]
  },
  {
   "cell_type": "code",
   "execution_count": 18,
   "metadata": {},
   "outputs": [],
   "source": [
    "parameters = init_parameters(rna)"
   ]
  },
  {
   "cell_type": "markdown",
   "metadata": {},
   "source": [
    "Compruebo la salida:"
   ]
  },
  {
   "cell_type": "code",
   "execution_count": 34,
   "metadata": {},
   "outputs": [
    {
     "name": "stdout",
     "output_type": "stream",
     "text": [
      "DIMENSIONES DE LA CAPA  1\n",
      "Matriz de pesos con dimensiones:  (200, 1024)\n",
      "Matriz de bias/sesgo con dimensiones:  (200, 1) \n",
      "\n",
      "DIMENSIONES DE LA CAPA  2\n",
      "Matriz de pesos con dimensiones:  (300, 200)\n",
      "Matriz de bias/sesgo con dimensiones:  (300, 1) \n",
      "\n",
      "DIMENSIONES DE LA CAPA  3\n",
      "Matriz de pesos con dimensiones:  (300, 300)\n",
      "Matriz de bias/sesgo con dimensiones:  (300, 1) \n",
      "\n",
      "DIMENSIONES DE LA CAPA  4\n",
      "Matriz de pesos con dimensiones:  (200, 300)\n",
      "Matriz de bias/sesgo con dimensiones:  (200, 1) \n",
      "\n",
      "DIMENSIONES DE LA CAPA  5\n",
      "Matriz de pesos con dimensiones:  (1, 200)\n",
      "Matriz de bias/sesgo con dimensiones:  (1, 1) \n",
      "\n"
     ]
    }
   ],
   "source": [
    "for i in range(1, len(rna)):\n",
    "    print(\"DIMENSIONES DE LA CAPA \", i)\n",
    "    print(\"Matriz de pesos con dimensiones: \", parameters['W' + str(i)].shape)\n",
    "    print(\"Matriz de bias/sesgo con dimensiones: \", parameters['b' + str(i)].shape, \"\\n\")"
   ]
  },
  {
   "cell_type": "markdown",
   "metadata": {},
   "source": [
    "# 4.- Implementación de 'forward propagation'\n",
    "Para implementar la propagación hacia delante, se deben de realizar los siguientes cálculos:\n",
    "* Cálculo de los parámetros pre-activación.\n",
    "* Cálculo de la activación de las neuronas.\n"
   ]
  },
  {
   "cell_type": "markdown",
   "metadata": {},
   "source": [
    "## 4.1.- Parámetros pre-activación\n",
    "Este método se encarga de calcular los parámetros que se introducen en la función de activación de la neurona. La ecuación que se emplea es:\n",
    "$$Z^{[l]} = W^{[l]}A^{[l-1]} +b^{[l]}\\tag{4}$$\n",
    "donde ${[l]}$ es el número de capa; $W^{[l]}$ son los pesos actuales de la capa actual; $A^{[l-1]}$ es la activación de la capa anterior; $b^{[l]}$ es el bias de la capa."
   ]
  },
  {
   "cell_type": "code",
   "execution_count": null,
   "metadata": {},
   "outputs": [],
   "source": [
    "def pre_activation(A, W, b):\n",
    "    \"\"\"_summary_\n",
    "    Esta función permite calcular los parámetros pre-activacion de la neurona.\n",
    "    \n",
    "    Args:\n",
    "        A (_type_): consiste en las activaciones obtenidas en la capa anterior.\n",
    "        W (_type_): consiste en los pesos actuales de la capa.\n",
    "        b (_type_): consiste en el sesgo actual de la capa.\n",
    "    \"\"\"\n",
    "\n",
    "    # Obtengo los parámetros de pre-activación\n",
    "    Z = np.dot(W,A) + b\n",
    "\n",
    "    # Creo una tupla de Python guardada en cache para acelerar el entrenamiento de la red, ya que estos parámetros se usarán más en adelante\n",
    "    pre_activation_params = (A, W, b)\n",
    "\n",
    "    return Z, pre_activation_params"
   ]
  },
  {
   "cell_type": "markdown",
   "metadata": {},
   "source": [
    "## 4.2.- Activación de la capa\n",
    "Este método se encargará de calcular la activación de la neurona ante los parámetros pre-activación. Son múltiples las opciones que podemos emplear para realizar este paso. A continuación, explicamos y definimos las más comunes:\n",
    "* **Sigmoid**: \n",
    "* **ReLU**:\n",
    "* **Softmax**: \n",
    "* **Leaky ReLU**: \n",
    "* **Tanh**: "
   ]
  },
  {
   "cell_type": "markdown",
   "metadata": {},
   "source": [
    "### 4.2.1.- Sigmoid\n",
    "La función sigmoidal sigue la siguiente fórmula matemática:\n"
   ]
  },
  {
   "cell_type": "code",
   "execution_count": null,
   "metadata": {},
   "outputs": [],
   "source": [
    "def sigmoid(z):\n",
    "    activation = 1 / (1 +  np.exp(-z))\n",
    "\n",
    "    return activation"
   ]
  },
  {
   "cell_type": "markdown",
   "metadata": {},
   "source": [
    "### 4.2.2.- ReLU\n",
    "La función ReLU sigue la siguiente fórmula matemática:"
   ]
  },
  {
   "cell_type": "code",
   "execution_count": null,
   "metadata": {},
   "outputs": [],
   "source": [
    "def relu(z):\n",
    "    activation = max(0,z)\n",
    "\n",
    "    return activation"
   ]
  },
  {
   "cell_type": "markdown",
   "metadata": {},
   "source": [
    "### 4.2.3.- Softmax\n",
    "La función Softmax sigue la siguiente fórmula matemática:"
   ]
  },
  {
   "cell_type": "code",
   "execution_count": null,
   "metadata": {},
   "outputs": [],
   "source": [
    "def relu(z):\n",
    "    max_z = np.max(z)\n",
    "    exp = np.exp(z-max_z)\n",
    "    activation = exp/max_z\n",
    "\n",
    "    return activation"
   ]
  },
  {
   "cell_type": "markdown",
   "metadata": {},
   "source": [
    "### 4.2.4.- Leaky ReLU\n",
    "La función Leaky ReLU sigue la siguiente fórmula matemática:"
   ]
  },
  {
   "cell_type": "code",
   "execution_count": null,
   "metadata": {},
   "outputs": [],
   "source": [
    "def leaky_relu(z):\n",
    "    activation = max(0.01*z,z)\n",
    "\n",
    "    return activation"
   ]
  },
  {
   "cell_type": "markdown",
   "metadata": {},
   "source": [
    "### 4.2.5.- Tanh\n",
    "La función Tanh sigue la siguiente fórmula matemática:"
   ]
  },
  {
   "cell_type": "code",
   "execution_count": null,
   "metadata": {},
   "outputs": [],
   "source": [
    "def tanh(z):\n",
    "    activation = np.tanh(z)\n",
    "\n",
    "    return activation"
   ]
  },
  {
   "cell_type": "markdown",
   "metadata": {},
   "source": [
    "## 4.3.- Cálculo de la activación de la capa\n",
    "Empleando los métodos anteriores, se procede a calcular la activación de la capa:"
   ]
  },
  {
   "cell_type": "code",
   "execution_count": null,
   "metadata": {},
   "outputs": [],
   "source": [
    "def forward_activation(dataset, parameters):\n",
    "    \"\"\"_summary_\n",
    "    Función que permite calcular la activación de la capa\n",
    "    \"\"\"\n",
    "\n",
    "    # Almaceno los resultados en la caché para acelerar el entrenamiento de la red\n",
    "    caches = []\n",
    "\n",
    "    # Número de capas ocultas\n",
    "    hidden_layers = len(parameters)/2\n",
    "\n",
    "    # Para la primera capa, las funciones de activación son los datos de entrada\n",
    "    A = dataset\n",
    "\n",
    "    # Calculo la activación de las capas ocultas\n",
    "    for num_layer in range(1, hidden_layers):\n",
    "        Z, pre_activation_params = pre_activation(A, parameters['W' + str(num_layer)], parameters['b' + str(num_layer)])\n",
    "        A = relu(Z)\n",
    "        caches.append(A)\n",
    "\n",
    "    # Calculo la activación de la capa final\n",
    "    Z = pre_activation(A, parameters['W' + str(hidden_layers)], parameters['b' + str(hidden_layers)])\n",
    "    AL = sigmoid(Z)\n",
    "    caches.append(cache)\n",
    "    \n",
    "    return "
   ]
  },
  {
   "cell_type": "markdown",
   "metadata": {},
   "source": [
    "# 5.- Computación de la pérdida\n",
    "En este punto, ya tenemos computada la activación de cada capa por lo que tan sólo quedaría computar el coste. El coste define el error existente entre las predicciones del modelo y las etiquetas reales del conjunto de datos. Para asegurarnos de que nuestro modelo está aprendiendo correctamente, el coste debería de reducirse en cada etapa del entrenamiento.\n",
    "\n",
    "Procedemos por tanto a definir algunas de las funciones de pérdida (que son las funciones que calculan el 'coste' sobre un conjunto de datos) más comunes:\n",
    "* **Cross-entropy**: \n",
    "* **Log Loss**:"
   ]
  },
  {
   "cell_type": "code",
   "execution_count": null,
   "metadata": {},
   "outputs": [],
   "source": [
    "def cost_function(predictions, Y):\n",
    "    \"\"\"_summary_\n",
    "    Función que permite calcular el error entre las predicciones del modelo y las etiquetas correctas.\n",
    "\n",
    "    Args:\n",
    "        predictions (_type_): _description_\n",
    "        Y (_type_): _description_\n",
    "    \"\"\"\n",
    "    # Obtengo el número de ejemplos\n",
    "    num_examples = Y.shape[1]\n",
    "\n",
    "    # Calculo la función de pérdida\n",
    "    cost = -(1/num_examples) * np.sum( Y * np.log(predictions) + (1-Y) * np.log(1-predictions))\n",
    "\n",
    "    return cost"
   ]
  },
  {
   "cell_type": "markdown",
   "metadata": {},
   "source": [
    "# 6.- Implementación del backward propagation"
   ]
  },
  {
   "cell_type": "markdown",
   "metadata": {},
   "source": [
    "# 7.- Actualización de parámetros (Gradient Descent)"
   ]
  },
  {
   "cell_type": "markdown",
   "metadata": {},
   "source": [
    "# 8.- Entrenamiento del modelo"
   ]
  },
  {
   "cell_type": "markdown",
   "metadata": {},
   "source": [
    "# 9.- Predicción"
   ]
  },
  {
   "cell_type": "markdown",
   "metadata": {},
   "source": [
    "# 10.- Conclusión"
   ]
  }
 ],
 "metadata": {
  "kernelspec": {
   "display_name": "Python 3",
   "language": "python",
   "name": "python3"
  },
  "language_info": {
   "codemirror_mode": {
    "name": "ipython",
    "version": 3
   },
   "file_extension": ".py",
   "mimetype": "text/x-python",
   "name": "python",
   "nbconvert_exporter": "python",
   "pygments_lexer": "ipython3",
   "version": "3.11.0rc1"
  }
 },
 "nbformat": 4,
 "nbformat_minor": 2
}
